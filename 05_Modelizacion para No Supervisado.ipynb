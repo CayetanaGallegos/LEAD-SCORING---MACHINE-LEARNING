{
 "cells": [
  {
   "cell_type": "markdown",
   "id": "d31dea65",
   "metadata": {},
   "source": [
    "# MODELIZACIÓN PARA NO SUPERVISADO"
   ]
  },
  {
   "cell_type": "markdown",
   "id": "swiss-fault",
   "metadata": {},
   "source": [
    "## IMPORTAR PAQUETES"
   ]
  },
  {
   "cell_type": "code",
   "execution_count": 15,
   "id": "adjacent-toddler",
   "metadata": {},
   "outputs": [],
   "source": [
    "import numpy as np\n",
    "import pandas as pd\n",
    "import matplotlib.pyplot as plt\n",
    "%matplotlib inline\n",
    "import seaborn as sns\n",
    "\n",
    "from sklearn.model_selection import train_test_split\n",
    "\n",
    "from sklearn.cluster import KMeans\n",
    "from sklearn.metrics import silhouette_score\n",
    "from sklearn.metrics import calinski_harabasz_score\n",
    "from sklearn.metrics import davies_bouldin_score\n",
    "\n",
    "from sklearn.model_selection import GridSearchCV\n",
    "\n",
    "#Autocompletar rápido\n",
    "%config IPCompleter.greedy=True\n",
    "\n",
    "#Desactivar la notación científica\n",
    "pd.options.display.float_format = '{:.2f}'.format\n",
    "\n",
    "#Desactivar los warnings\n",
    "import warnings\n",
    "warnings.filterwarnings(\"ignore\")"
   ]
  },
  {
   "cell_type": "markdown",
   "id": "graduate-compensation",
   "metadata": {},
   "source": [
    "## IMPORTAR LOS DATOS"
   ]
  },
  {
   "cell_type": "markdown",
   "id": "3a5b94ef",
   "metadata": {},
   "source": [
    "Sustituir la ruta del proyecto."
   ]
  },
  {
   "cell_type": "code",
   "execution_count": 16,
   "id": "f9d2de58",
   "metadata": {},
   "outputs": [],
   "source": [
    "ruta_proyecto = 'C:/Users/Ana/Desktop/DATA_SCIENCE_FOR_BUSINESS/PYTHON_DATA_SCIENCE_MASTERY/EstructuraDirectorio/03_MACHINE_LEARNING/08_CASOS_/01_LEADSCORING'"
   ]
  },
  {
   "cell_type": "markdown",
   "id": "c3363765",
   "metadata": {},
   "source": [
    "Nombres de los ficheros de datos."
   ]
  },
  {
   "cell_type": "code",
   "execution_count": 17,
   "id": "a9e2e04a",
   "metadata": {},
   "outputs": [],
   "source": [
    "nombre_df = 'df_tablon.pickle'\n"
   ]
  },
  {
   "cell_type": "markdown",
   "id": "b9825018",
   "metadata": {},
   "source": [
    "Cargar los datos."
   ]
  },
  {
   "cell_type": "code",
   "execution_count": 18,
   "id": "cab6ebcd",
   "metadata": {},
   "outputs": [],
   "source": [
    "df = pd.read_pickle(ruta_proyecto + '/02_Datos/03_Trabajo/' + nombre_df)"
   ]
  },
  {
   "cell_type": "code",
   "execution_count": 19,
   "id": "8415e9b6",
   "metadata": {},
   "outputs": [],
   "source": [
    "df.drop(columns = ['fuente_Chat',\n",
    "                   'fuente_Direct Traffic',\n",
    "                   'fuente_Google',\n",
    "                   'fuente_OTROS',\n",
    "                   'fuente_Organic Search',\n",
    "                   'fuente_Reference', \n",
    "                   'score_actividad_mms',\n",
    "                   'score_perfil_mms', \n",
    "                   'ambito_Banking, Investment And Insurance',\n",
    "                   'ambito_Business Administration',\n",
    "                   'ambito_Finance Management',\n",
    "                   'ambito_Healthcare Management',\n",
    "                   'ambito_Human Resource Management',\n",
    "                   'ambito_IT Projects Management',\n",
    "                   'ambito_International Business',\n",
    "                   'ambito_Marketing Management',\n",
    "                   'ambito_Media and Advertising',\n",
    "                   'ambito_OTROS',\n",
    "                   'ambito_Operations Management', \n",
    "                   'ambito_Select', \n",
    "                   'ambito_Supply Chain Management',\n",
    "                   'ambito_Travel and Tourism',\n",
    "                   'descarga_lm_No',\n",
    "                   'descarga_lm_Yes', \n",
    "                   'visitas_total_mms',\n",
    "                   'paginas_vistas_visita_mms'\n",
    "                   ], inplace= True)"
   ]
  },
  {
   "cell_type": "markdown",
   "id": "9790d322",
   "metadata": {},
   "source": [
    "## MODELIZAR"
   ]
  },
  {
   "cell_type": "markdown",
   "id": "53bd4ad6",
   "metadata": {},
   "source": [
    "### Crear el espacio de soluciones"
   ]
  },
  {
   "cell_type": "code",
   "execution_count": 20,
   "id": "eeaa3ea1",
   "metadata": {},
   "outputs": [],
   "source": [
    "min_k = 3\n",
    "max_k = 7\n",
    "\n",
    "soluciones = list(range(min_k,max_k))"
   ]
  },
  {
   "cell_type": "markdown",
   "id": "1f836ca9",
   "metadata": {},
   "source": [
    "### Crear listas para guardar la salida de cada métrica"
   ]
  },
  {
   "cell_type": "code",
   "execution_count": 21,
   "id": "cfb75560",
   "metadata": {},
   "outputs": [],
   "source": [
    "codo = []\n",
    "silueta = []\n",
    "calins = []\n",
    "davies = []"
   ]
  },
  {
   "cell_type": "markdown",
   "id": "159b78b6",
   "metadata": {},
   "source": [
    "### Analizar el espacio de soluciones"
   ]
  },
  {
   "cell_type": "code",
   "execution_count": 22,
   "id": "4b2f40be",
   "metadata": {},
   "outputs": [],
   "source": [
    "for solucion in soluciones:\n",
    "    \n",
    "    #Instanciar\n",
    "    cluster = KMeans(n_clusters = solucion, n_init=10)\n",
    "    \n",
    "    #Entrenar\n",
    "    cluster.fit(df)\n",
    "    \n",
    "    #Recoger las métricas\n",
    "    codo.append(cluster.inertia_)\n",
    "    silueta.append(silhouette_score(df, cluster.labels_))\n",
    "    calins.append(calinski_harabasz_score(df, cluster.labels_))\n",
    "    davies.append(davies_bouldin_score(df, cluster.labels_))"
   ]
  },
  {
   "cell_type": "markdown",
   "id": "eaa2acf8",
   "metadata": {},
   "source": [
    "### Identificar la mejor solucion"
   ]
  },
  {
   "cell_type": "markdown",
   "id": "ba26fca9",
   "metadata": {},
   "source": [
    "#### Analizar las métricas"
   ]
  },
  {
   "cell_type": "code",
   "execution_count": 23,
   "id": "30f9904f",
   "metadata": {},
   "outputs": [
    {
     "data": {
      "text/html": [
       "<div>\n",
       "<style scoped>\n",
       "    .dataframe tbody tr th:only-of-type {\n",
       "        vertical-align: middle;\n",
       "    }\n",
       "\n",
       "    .dataframe tbody tr th {\n",
       "        vertical-align: top;\n",
       "    }\n",
       "\n",
       "    .dataframe thead th {\n",
       "        text-align: right;\n",
       "    }\n",
       "</style>\n",
       "<table border=\"1\" class=\"dataframe\">\n",
       "  <thead>\n",
       "    <tr style=\"text-align: right;\">\n",
       "      <th></th>\n",
       "      <th>Codo</th>\n",
       "      <th>Silueta</th>\n",
       "      <th>Calins</th>\n",
       "      <th>Davies</th>\n",
       "    </tr>\n",
       "    <tr>\n",
       "      <th>Solucion</th>\n",
       "      <th></th>\n",
       "      <th></th>\n",
       "      <th></th>\n",
       "      <th></th>\n",
       "    </tr>\n",
       "  </thead>\n",
       "  <tbody>\n",
       "    <tr>\n",
       "      <th>3</th>\n",
       "      <td>5198.26</td>\n",
       "      <td>0.29</td>\n",
       "      <td>1415.61</td>\n",
       "      <td>1.50</td>\n",
       "    </tr>\n",
       "    <tr>\n",
       "      <th>4</th>\n",
       "      <td>4620.90</td>\n",
       "      <td>0.33</td>\n",
       "      <td>1261.60</td>\n",
       "      <td>1.53</td>\n",
       "    </tr>\n",
       "    <tr>\n",
       "      <th>5</th>\n",
       "      <td>4094.63</td>\n",
       "      <td>0.35</td>\n",
       "      <td>1221.98</td>\n",
       "      <td>1.45</td>\n",
       "    </tr>\n",
       "    <tr>\n",
       "      <th>6</th>\n",
       "      <td>3611.78</td>\n",
       "      <td>0.38</td>\n",
       "      <td>1236.49</td>\n",
       "      <td>1.49</td>\n",
       "    </tr>\n",
       "  </tbody>\n",
       "</table>\n",
       "</div>"
      ],
      "text/plain": [
       "            Codo  Silueta  Calins  Davies\n",
       "Solucion                                 \n",
       "3        5198.26     0.29 1415.61    1.50\n",
       "4        4620.90     0.33 1261.60    1.53\n",
       "5        4094.63     0.35 1221.98    1.45\n",
       "6        3611.78     0.38 1236.49    1.49"
      ]
     },
     "execution_count": 23,
     "metadata": {},
     "output_type": "execute_result"
    }
   ],
   "source": [
    "metricas = pd.DataFrame({'Solucion':soluciones,\n",
    "              'Codo': codo,\n",
    "              'Silueta':silueta,\n",
    "              'Calins':calins,           \n",
    "              'Davies':davies}).set_index('Solucion')\n",
    "\n",
    "metricas"
   ]
  },
  {
   "cell_type": "markdown",
   "id": "1f5164a5",
   "metadata": {},
   "source": [
    "#### Analizar los gráficos"
   ]
  },
  {
   "cell_type": "code",
   "execution_count": 24,
   "id": "16a81e6d",
   "metadata": {
    "scrolled": true
   },
   "outputs": [
    {
     "data": {
      "image/png": "[encoded data removed]",
      "text/plain": [
       "<Figure size 1200x800 with 4 Axes>"
      ]
     },
     "metadata": {},
     "output_type": "display_data"
    }
   ],
   "source": [
    "metricas.plot(subplots = True, figsize = (12,8), layout = (2,2), sharex = False);"
   ]
  },
  {
   "cell_type": "markdown",
   "id": "99e34c6f",
   "metadata": {},
   "source": [
    "### Segmentación final con la mejor solucion"
   ]
  },
  {
   "cell_type": "code",
   "execution_count": 25,
   "id": "3ebc920f",
   "metadata": {},
   "outputs": [
    {
     "data": {
      "text/html": [
       "<style>#sk-container-id-2 {color: black;background-color: white;}#sk-container-id-2 pre{padding: 0;}#sk-container-id-2 div.sk-toggleable {background-color: white;}#sk-container-id-2 label.sk-toggleable__label {cursor: pointer;display: block;width: 100%;margin-bottom: 0;padding: 0.3em;box-sizing: border-box;text-align: center;}#sk-container-id-2 label.sk-toggleable__label-arrow:before {content: \"▸\";float: left;margin-right: 0.25em;color: #696969;}#sk-container-id-2 label.sk-toggleable__label-arrow:hover:before {color: black;}#sk-container-id-2 div.sk-estimator:hover label.sk-toggleable__label-arrow:before {color: black;}#sk-container-id-2 div.sk-toggleable__content {max-height: 0;max-width: 0;overflow: hidden;text-align: left;background-color: #f0f8ff;}#sk-container-id-2 div.sk-toggleable__content pre {margin: 0.2em;color: black;border-radius: 0.25em;background-color: #f0f8ff;}#sk-container-id-2 input.sk-toggleable__control:checked~div.sk-toggleable__content {max-height: 200px;max-width: 100%;overflow: auto;}#sk-container-id-2 input.sk-toggleable__control:checked~label.sk-toggleable__label-arrow:before {content: \"▾\";}#sk-container-id-2 div.sk-estimator input.sk-toggleable__control:checked~label.sk-toggleable__label {background-color: #d4ebff;}#sk-container-id-2 div.sk-label input.sk-toggleable__control:checked~label.sk-toggleable__label {background-color: #d4ebff;}#sk-container-id-2 input.sk-hidden--visually {border: 0;clip: rect(1px 1px 1px 1px);clip: rect(1px, 1px, 1px, 1px);height: 1px;margin: -1px;overflow: hidden;padding: 0;position: absolute;width: 1px;}#sk-container-id-2 div.sk-estimator {font-family: monospace;background-color: #f0f8ff;border: 1px dotted black;border-radius: 0.25em;box-sizing: border-box;margin-bottom: 0.5em;}#sk-container-id-2 div.sk-estimator:hover {background-color: #d4ebff;}#sk-container-id-2 div.sk-parallel-item::after {content: \"\";width: 100%;border-bottom: 1px solid gray;flex-grow: 1;}#sk-container-id-2 div.sk-label:hover label.sk-toggleable__label {background-color: #d4ebff;}#sk-container-id-2 div.sk-serial::before {content: \"\";position: absolute;border-left: 1px solid gray;box-sizing: border-box;top: 0;bottom: 0;left: 50%;z-index: 0;}#sk-container-id-2 div.sk-serial {display: flex;flex-direction: column;align-items: center;background-color: white;padding-right: 0.2em;padding-left: 0.2em;position: relative;}#sk-container-id-2 div.sk-item {position: relative;z-index: 1;}#sk-container-id-2 div.sk-parallel {display: flex;align-items: stretch;justify-content: center;background-color: white;position: relative;}#sk-container-id-2 div.sk-item::before, #sk-container-id-2 div.sk-parallel-item::before {content: \"\";position: absolute;border-left: 1px solid gray;box-sizing: border-box;top: 0;bottom: 0;left: 50%;z-index: -1;}#sk-container-id-2 div.sk-parallel-item {display: flex;flex-direction: column;z-index: 1;position: relative;background-color: white;}#sk-container-id-2 div.sk-parallel-item:first-child::after {align-self: flex-end;width: 50%;}#sk-container-id-2 div.sk-parallel-item:last-child::after {align-self: flex-start;width: 50%;}#sk-container-id-2 div.sk-parallel-item:only-child::after {width: 0;}#sk-container-id-2 div.sk-dashed-wrapped {border: 1px dashed gray;margin: 0 0.4em 0.5em 0.4em;box-sizing: border-box;padding-bottom: 0.4em;background-color: white;}#sk-container-id-2 div.sk-label label {font-family: monospace;font-weight: bold;display: inline-block;line-height: 1.2em;}#sk-container-id-2 div.sk-label-container {text-align: center;}#sk-container-id-2 div.sk-container {/* jupyter's `normalize.less` sets `[hidden] { display: none; }` but bootstrap.min.css set `[hidden] { display: none !important; }` so we also need the `!important` here to be able to override the default hidden behavior on the sphinx rendered scikit-learn.org. See: https://github.com/scikit-learn/scikit-learn/issues/21755 */display: inline-block !important;position: relative;}#sk-container-id-2 div.sk-text-repr-fallback {display: none;}</style><div id=\"sk-container-id-2\" class=\"sk-top-container\"><div class=\"sk-text-repr-fallback\"><pre>KMeans(n_clusters=6, n_init=10)</pre><b>In a Jupyter environment, please rerun this cell to show the HTML representation or trust the notebook. <br />On GitHub, the HTML representation is unable to render, please try loading this page with nbviewer.org.</b></div><div class=\"sk-container\" hidden><div class=\"sk-item\"><div class=\"sk-estimator sk-toggleable\"><input class=\"sk-toggleable__control sk-hidden--visually\" id=\"sk-estimator-id-2\" type=\"checkbox\" checked><label for=\"sk-estimator-id-2\" class=\"sk-toggleable__label sk-toggleable__label-arrow\">KMeans</label><div class=\"sk-toggleable__content\"><pre>KMeans(n_clusters=6, n_init=10)</pre></div></div></div></div></div>"
      ],
      "text/plain": [
       "KMeans(n_clusters=6, n_init=10)"
      ]
     },
     "execution_count": 25,
     "metadata": {},
     "output_type": "execute_result"
    }
   ],
   "source": [
    "mejor_solucion = 6\n",
    "\n",
    "#Instanciar\n",
    "cluster = KMeans(n_clusters = mejor_solucion, n_init=10)\n",
    "    \n",
    "#Entrenar\n",
    "cluster.fit(df)"
   ]
  },
  {
   "cell_type": "markdown",
   "id": "fd6f59ab",
   "metadata": {},
   "source": [
    "## EVALUAR"
   ]
  },
  {
   "cell_type": "markdown",
   "id": "99827e53",
   "metadata": {},
   "source": [
    "Comprobar que los perfiles obtenidos en entrenamiento son similares a los objetidos al predecir sobre validación."
   ]
  },
  {
   "cell_type": "markdown",
   "id": "90ac986a",
   "metadata": {},
   "source": [
    "### Calcular el segmento en entrenamiento y en validación"
   ]
  },
  {
   "cell_type": "code",
   "execution_count": 26,
   "id": "874aa873",
   "metadata": {},
   "outputs": [],
   "source": [
    "df['segmento'] = cluster.predict(df)"
   ]
  },
  {
   "cell_type": "markdown",
   "id": "87d46a1d",
   "metadata": {},
   "source": [
    "## PERFILAR LOS SEGMENTOS"
   ]
  },
  {
   "cell_type": "code",
   "execution_count": 27,
   "id": "f32990c1",
   "metadata": {},
   "outputs": [
    {
     "data": {
      "text/html": [
       "<style type=\"text/css\">\n",
       "#T_3f3f6_row0_col0, #T_3f3f6_row0_col2, #T_3f3f6_row1_col3, #T_3f3f6_row1_col5, #T_3f3f6_row2_col0, #T_3f3f6_row2_col3, #T_3f3f6_row3_col2, #T_3f3f6_row4_col2, #T_3f3f6_row4_col3, #T_3f3f6_row5_col1, #T_3f3f6_row5_col2, #T_3f3f6_row5_col3, #T_3f3f6_row6_col2, #T_3f3f6_row6_col3, #T_3f3f6_row7_col0, #T_3f3f6_row7_col1, #T_3f3f6_row7_col5, #T_3f3f6_row8_col2, #T_3f3f6_row8_col3, #T_3f3f6_row9_col2, #T_3f3f6_row9_col3, #T_3f3f6_row10_col2, #T_3f3f6_row10_col3, #T_3f3f6_row11_col1, #T_3f3f6_row12_col0, #T_3f3f6_row13_col4, #T_3f3f6_row14_col0, #T_3f3f6_row14_col1, #T_3f3f6_row14_col2, #T_3f3f6_row15_col5, #T_3f3f6_row16_col5 {\n",
       "  background-color: red;\n",
       "}\n",
       "#T_3f3f6_row0_col5, #T_3f3f6_row1_col0, #T_3f3f6_row2_col4, #T_3f3f6_row3_col3, #T_3f3f6_row4_col5, #T_3f3f6_row5_col5, #T_3f3f6_row6_col5, #T_3f3f6_row7_col2, #T_3f3f6_row7_col3, #T_3f3f6_row8_col0, #T_3f3f6_row9_col0, #T_3f3f6_row10_col1, #T_3f3f6_row11_col4, #T_3f3f6_row12_col3, #T_3f3f6_row13_col0, #T_3f3f6_row14_col4, #T_3f3f6_row15_col1, #T_3f3f6_row16_col1 {\n",
       "  background-color: lightgreen;\n",
       "}\n",
       "</style>\n",
       "<table id=\"T_3f3f6\">\n",
       "  <thead>\n",
       "    <tr>\n",
       "      <th class=\"index_name level0\" >segmento</th>\n",
       "      <th id=\"T_3f3f6_level0_col0\" class=\"col_heading level0 col0\" >0</th>\n",
       "      <th id=\"T_3f3f6_level0_col1\" class=\"col_heading level0 col1\" >1</th>\n",
       "      <th id=\"T_3f3f6_level0_col2\" class=\"col_heading level0 col2\" >2</th>\n",
       "      <th id=\"T_3f3f6_level0_col3\" class=\"col_heading level0 col3\" >3</th>\n",
       "      <th id=\"T_3f3f6_level0_col4\" class=\"col_heading level0 col4\" >4</th>\n",
       "      <th id=\"T_3f3f6_level0_col5\" class=\"col_heading level0 col5\" >5</th>\n",
       "    </tr>\n",
       "  </thead>\n",
       "  <tbody>\n",
       "    <tr>\n",
       "      <th id=\"T_3f3f6_level0_row0\" class=\"row_heading level0 row0\" >origen_API</th>\n",
       "      <td id=\"T_3f3f6_row0_col0\" class=\"data row0 col0\" >0.000000</td>\n",
       "      <td id=\"T_3f3f6_row0_col1\" class=\"data row0 col1\" >0.300499</td>\n",
       "      <td id=\"T_3f3f6_row0_col2\" class=\"data row0 col2\" >0.000000</td>\n",
       "      <td id=\"T_3f3f6_row0_col3\" class=\"data row0 col3\" >0.972527</td>\n",
       "      <td id=\"T_3f3f6_row0_col4\" class=\"data row0 col4\" >0.202934</td>\n",
       "      <td id=\"T_3f3f6_row0_col5\" class=\"data row0 col5\" >0.976852</td>\n",
       "    </tr>\n",
       "    <tr>\n",
       "      <th id=\"T_3f3f6_level0_row1\" class=\"row_heading level0 row1\" >origen_Landing Page Submission</th>\n",
       "      <td id=\"T_3f3f6_row1_col0\" class=\"data row1 col0\" >0.995413</td>\n",
       "      <td id=\"T_3f3f6_row1_col1\" class=\"data row1 col1\" >0.582294</td>\n",
       "      <td id=\"T_3f3f6_row1_col2\" class=\"data row1 col2\" >0.959696</td>\n",
       "      <td id=\"T_3f3f6_row1_col3\" class=\"data row1 col3\" >0.000000</td>\n",
       "      <td id=\"T_3f3f6_row1_col4\" class=\"data row1 col4\" >0.574572</td>\n",
       "      <td id=\"T_3f3f6_row1_col5\" class=\"data row1 col5\" >0.000000</td>\n",
       "    </tr>\n",
       "    <tr>\n",
       "      <th id=\"T_3f3f6_level0_row2\" class=\"row_heading level0 row2\" >origen_Lead Add Form</th>\n",
       "      <td id=\"T_3f3f6_row2_col0\" class=\"data row2 col0\" >0.000000</td>\n",
       "      <td id=\"T_3f3f6_row2_col1\" class=\"data row2 col1\" >0.113466</td>\n",
       "      <td id=\"T_3f3f6_row2_col2\" class=\"data row2 col2\" >0.040304</td>\n",
       "      <td id=\"T_3f3f6_row2_col3\" class=\"data row2 col3\" >0.000000</td>\n",
       "      <td id=\"T_3f3f6_row2_col4\" class=\"data row2 col4\" >0.217604</td>\n",
       "      <td id=\"T_3f3f6_row2_col5\" class=\"data row2 col5\" >0.012346</td>\n",
       "    </tr>\n",
       "    <tr>\n",
       "      <th id=\"T_3f3f6_level0_row3\" class=\"row_heading level0 row3\" >origen_OTROS</th>\n",
       "      <td id=\"T_3f3f6_row3_col0\" class=\"data row3 col0\" >0.004587</td>\n",
       "      <td id=\"T_3f3f6_row3_col1\" class=\"data row3 col1\" >0.003741</td>\n",
       "      <td id=\"T_3f3f6_row3_col2\" class=\"data row3 col2\" >0.000000</td>\n",
       "      <td id=\"T_3f3f6_row3_col3\" class=\"data row3 col3\" >0.027473</td>\n",
       "      <td id=\"T_3f3f6_row3_col4\" class=\"data row3 col4\" >0.004890</td>\n",
       "      <td id=\"T_3f3f6_row3_col5\" class=\"data row3 col5\" >0.010802</td>\n",
       "    </tr>\n",
       "    <tr>\n",
       "      <th id=\"T_3f3f6_level0_row4\" class=\"row_heading level0 row4\" >ult_actividad_Chat Conversation</th>\n",
       "      <td id=\"T_3f3f6_row4_col0\" class=\"data row4 col0\" >0.048624</td>\n",
       "      <td id=\"T_3f3f6_row4_col1\" class=\"data row4 col1\" >0.001247</td>\n",
       "      <td id=\"T_3f3f6_row4_col2\" class=\"data row4 col2\" >0.000000</td>\n",
       "      <td id=\"T_3f3f6_row4_col3\" class=\"data row4 col3\" >0.000000</td>\n",
       "      <td id=\"T_3f3f6_row4_col4\" class=\"data row4 col4\" >0.014670</td>\n",
       "      <td id=\"T_3f3f6_row4_col5\" class=\"data row4 col5\" >0.311728</td>\n",
       "    </tr>\n",
       "    <tr>\n",
       "      <th id=\"T_3f3f6_level0_row5\" class=\"row_heading level0 row5\" >ult_actividad_Converted to Lead</th>\n",
       "      <td id=\"T_3f3f6_row5_col0\" class=\"data row5 col0\" >0.159633</td>\n",
       "      <td id=\"T_3f3f6_row5_col1\" class=\"data row5 col1\" >0.000000</td>\n",
       "      <td id=\"T_3f3f6_row5_col2\" class=\"data row5 col2\" >0.000000</td>\n",
       "      <td id=\"T_3f3f6_row5_col3\" class=\"data row5 col3\" >0.000000</td>\n",
       "      <td id=\"T_3f3f6_row5_col4\" class=\"data row5 col4\" >0.036675</td>\n",
       "      <td id=\"T_3f3f6_row5_col5\" class=\"data row5 col5\" >0.163580</td>\n",
       "    </tr>\n",
       "    <tr>\n",
       "      <th id=\"T_3f3f6_level0_row6\" class=\"row_heading level0 row6\" >ult_actividad_Email Link Clicked</th>\n",
       "      <td id=\"T_3f3f6_row6_col0\" class=\"data row6 col0\" >0.076147</td>\n",
       "      <td id=\"T_3f3f6_row6_col1\" class=\"data row6 col1\" >0.011222</td>\n",
       "      <td id=\"T_3f3f6_row6_col2\" class=\"data row6 col2\" >0.000000</td>\n",
       "      <td id=\"T_3f3f6_row6_col3\" class=\"data row6 col3\" >0.000000</td>\n",
       "      <td id=\"T_3f3f6_row6_col4\" class=\"data row6 col4\" >0.026895</td>\n",
       "      <td id=\"T_3f3f6_row6_col5\" class=\"data row6 col5\" >0.084877</td>\n",
       "    </tr>\n",
       "    <tr>\n",
       "      <th id=\"T_3f3f6_level0_row7\" class=\"row_heading level0 row7\" >ult_actividad_Email Opened</th>\n",
       "      <td id=\"T_3f3f6_row7_col0\" class=\"data row7 col0\" >0.000000</td>\n",
       "      <td id=\"T_3f3f6_row7_col1\" class=\"data row7 col1\" >0.000000</td>\n",
       "      <td id=\"T_3f3f6_row7_col2\" class=\"data row7 col2\" >1.000000</td>\n",
       "      <td id=\"T_3f3f6_row7_col3\" class=\"data row7 col3\" >1.000000</td>\n",
       "      <td id=\"T_3f3f6_row7_col4\" class=\"data row7 col4\" >0.376528</td>\n",
       "      <td id=\"T_3f3f6_row7_col5\" class=\"data row7 col5\" >0.000000</td>\n",
       "    </tr>\n",
       "    <tr>\n",
       "      <th id=\"T_3f3f6_level0_row8\" class=\"row_heading level0 row8\" >ult_actividad_OTROS</th>\n",
       "      <td id=\"T_3f3f6_row8_col0\" class=\"data row8 col0\" >0.094495</td>\n",
       "      <td id=\"T_3f3f6_row8_col1\" class=\"data row8 col1\" >0.046135</td>\n",
       "      <td id=\"T_3f3f6_row8_col2\" class=\"data row8 col2\" >0.000000</td>\n",
       "      <td id=\"T_3f3f6_row8_col3\" class=\"data row8 col3\" >0.000000</td>\n",
       "      <td id=\"T_3f3f6_row8_col4\" class=\"data row8 col4\" >0.088020</td>\n",
       "      <td id=\"T_3f3f6_row8_col5\" class=\"data row8 col5\" >0.092593</td>\n",
       "    </tr>\n",
       "    <tr>\n",
       "      <th id=\"T_3f3f6_level0_row9\" class=\"row_heading level0 row9\" >ult_actividad_Page Visited on Website</th>\n",
       "      <td id=\"T_3f3f6_row9_col0\" class=\"data row9 col0\" >0.218349</td>\n",
       "      <td id=\"T_3f3f6_row9_col1\" class=\"data row9 col1\" >0.007481</td>\n",
       "      <td id=\"T_3f3f6_row9_col2\" class=\"data row9 col2\" >0.000000</td>\n",
       "      <td id=\"T_3f3f6_row9_col3\" class=\"data row9 col3\" >0.000000</td>\n",
       "      <td id=\"T_3f3f6_row9_col4\" class=\"data row9 col4\" >0.056235</td>\n",
       "      <td id=\"T_3f3f6_row9_col5\" class=\"data row9 col5\" >0.166667</td>\n",
       "    </tr>\n",
       "    <tr>\n",
       "      <th id=\"T_3f3f6_level0_row10\" class=\"row_heading level0 row10\" >ult_actividad_SMS Sent</th>\n",
       "      <td id=\"T_3f3f6_row10_col0\" class=\"data row10 col0\" >0.402752</td>\n",
       "      <td id=\"T_3f3f6_row10_col1\" class=\"data row10 col1\" >0.933915</td>\n",
       "      <td id=\"T_3f3f6_row10_col2\" class=\"data row10 col2\" >0.000000</td>\n",
       "      <td id=\"T_3f3f6_row10_col3\" class=\"data row10 col3\" >0.000000</td>\n",
       "      <td id=\"T_3f3f6_row10_col4\" class=\"data row10 col4\" >0.400978</td>\n",
       "      <td id=\"T_3f3f6_row10_col5\" class=\"data row10 col5\" >0.180556</td>\n",
       "    </tr>\n",
       "    <tr>\n",
       "      <th id=\"T_3f3f6_level0_row11\" class=\"row_heading level0 row11\" >ocupacion_OTROS</th>\n",
       "      <td id=\"T_3f3f6_row11_col0\" class=\"data row11 col0\" >0.001835</td>\n",
       "      <td id=\"T_3f3f6_row11_col1\" class=\"data row11 col1\" >0.000000</td>\n",
       "      <td id=\"T_3f3f6_row11_col2\" class=\"data row11 col2\" >0.002281</td>\n",
       "      <td id=\"T_3f3f6_row11_col3\" class=\"data row11 col3\" >0.007326</td>\n",
       "      <td id=\"T_3f3f6_row11_col4\" class=\"data row11 col4\" >0.012225</td>\n",
       "      <td id=\"T_3f3f6_row11_col5\" class=\"data row11 col5\" >0.006173</td>\n",
       "    </tr>\n",
       "    <tr>\n",
       "      <th id=\"T_3f3f6_level0_row12\" class=\"row_heading level0 row12\" >ocupacion_Student</th>\n",
       "      <td id=\"T_3f3f6_row12_col0\" class=\"data row12 col0\" >0.010092</td>\n",
       "      <td id=\"T_3f3f6_row12_col1\" class=\"data row12 col1\" >0.023691</td>\n",
       "      <td id=\"T_3f3f6_row12_col2\" class=\"data row12 col2\" >0.029658</td>\n",
       "      <td id=\"T_3f3f6_row12_col3\" class=\"data row12 col3\" >0.031136</td>\n",
       "      <td id=\"T_3f3f6_row12_col4\" class=\"data row12 col4\" >0.029340</td>\n",
       "      <td id=\"T_3f3f6_row12_col5\" class=\"data row12 col5\" >0.023148</td>\n",
       "    </tr>\n",
       "    <tr>\n",
       "      <th id=\"T_3f3f6_level0_row13\" class=\"row_heading level0 row13\" >ocupacion_Unemployed</th>\n",
       "      <td id=\"T_3f3f6_row13_col0\" class=\"data row13 col0\" >0.988073</td>\n",
       "      <td id=\"T_3f3f6_row13_col1\" class=\"data row13 col1\" >0.976309</td>\n",
       "      <td id=\"T_3f3f6_row13_col2\" class=\"data row13 col2\" >0.968061</td>\n",
       "      <td id=\"T_3f3f6_row13_col3\" class=\"data row13 col3\" >0.952381</td>\n",
       "      <td id=\"T_3f3f6_row13_col4\" class=\"data row13 col4\" >0.000000</td>\n",
       "      <td id=\"T_3f3f6_row13_col5\" class=\"data row13 col5\" >0.967593</td>\n",
       "    </tr>\n",
       "    <tr>\n",
       "      <th id=\"T_3f3f6_level0_row14\" class=\"row_heading level0 row14\" >ocupacion_Working Professional</th>\n",
       "      <td id=\"T_3f3f6_row14_col0\" class=\"data row14 col0\" >0.000000</td>\n",
       "      <td id=\"T_3f3f6_row14_col1\" class=\"data row14 col1\" >0.000000</td>\n",
       "      <td id=\"T_3f3f6_row14_col2\" class=\"data row14 col2\" >0.000000</td>\n",
       "      <td id=\"T_3f3f6_row14_col3\" class=\"data row14 col3\" >0.009158</td>\n",
       "      <td id=\"T_3f3f6_row14_col4\" class=\"data row14 col4\" >0.958435</td>\n",
       "      <td id=\"T_3f3f6_row14_col5\" class=\"data row14 col5\" >0.003086</td>\n",
       "    </tr>\n",
       "    <tr>\n",
       "      <th id=\"T_3f3f6_level0_row15\" class=\"row_heading level0 row15\" >tiempo_en_site_total_mms</th>\n",
       "      <td id=\"T_3f3f6_row15_col0\" class=\"data row15 col0\" >0.225524</td>\n",
       "      <td id=\"T_3f3f6_row15_col1\" class=\"data row15 col1\" >0.391873</td>\n",
       "      <td id=\"T_3f3f6_row15_col2\" class=\"data row15 col2\" >0.249586</td>\n",
       "      <td id=\"T_3f3f6_row15_col3\" class=\"data row15 col3\" >0.229338</td>\n",
       "      <td id=\"T_3f3f6_row15_col4\" class=\"data row15 col4\" >0.333436</td>\n",
       "      <td id=\"T_3f3f6_row15_col5\" class=\"data row15 col5\" >0.183169</td>\n",
       "    </tr>\n",
       "    <tr>\n",
       "      <th id=\"T_3f3f6_level0_row16\" class=\"row_heading level0 row16\" >compra</th>\n",
       "      <td id=\"T_3f3f6_row16_col0\" class=\"data row16 col0\" >0.126606</td>\n",
       "      <td id=\"T_3f3f6_row16_col1\" class=\"data row16 col1\" >0.992519</td>\n",
       "      <td id=\"T_3f3f6_row16_col2\" class=\"data row16 col2\" >0.314829</td>\n",
       "      <td id=\"T_3f3f6_row16_col3\" class=\"data row16 col3\" >0.311355</td>\n",
       "      <td id=\"T_3f3f6_row16_col4\" class=\"data row16 col4\" >0.924205</td>\n",
       "      <td id=\"T_3f3f6_row16_col5\" class=\"data row16 col5\" >0.126543</td>\n",
       "    </tr>\n",
       "  </tbody>\n",
       "</table>\n"
      ],
      "text/plain": [
       "<pandas.io.formats.style.Styler at 0x2558227c850>"
      ]
     },
     "execution_count": 27,
     "metadata": {},
     "output_type": "execute_result"
    }
   ],
   "source": [
    "df.groupby('segmento').mean().T \\\n",
    "    .style.highlight_max(color = 'lightgreen', axis = 1) \\\n",
    "    .highlight_min(color = 'red', axis = 1)"
   ]
  },
  {
   "cell_type": "markdown",
   "id": "a150eead",
   "metadata": {},
   "source": [
    "Segmentos que convierten bien: 0, 3, 5\n",
    "\n",
    " - Segmento 0:  convierte en un 92%, se corresponde con un working professional, su ultima áctividad esta en sms (40%) y un email (37%), origen mayoritario Landing Page 56%\n",
    " - Segmento 3:  se corresponde con desempleados que si convierten en un 77%, alos que se les mandó un sms y cuyo origen en una API\n",
    " - Segmento 5: convierte 51%, se correspone con desempleados 98%, a los que se les mandó un sms 100% y cuyo origen es Landin Page 99%\n",
    " \n",
    " Entre los que menos convierten se encuentra el segmento 1 que se corresponde con desempleados 95%, con oringen API 100%\n",
    "\n",
    "El chat NO genera leads de calidad\n",
    "\n",
    "El sms si funciona con desempleados 98% y convierten 51%\n",
    "\n",
    "El email tambien funciona con desempleados , pero al final no convierten"
   ]
  },
  {
   "cell_type": "code",
   "execution_count": 28,
   "id": "a4d6ef67",
   "metadata": {},
   "outputs": [
    {
     "data": {
      "text/plain": [
       "segmento\n",
       "2   0.27\n",
       "0   0.23\n",
       "1   0.17\n",
       "5   0.13\n",
       "3   0.11\n",
       "4   0.09\n",
       "Name: proportion, dtype: float64"
      ]
     },
     "execution_count": 28,
     "metadata": {},
     "output_type": "execute_result"
    }
   ],
   "source": [
    "df.segmento.value_counts(normalize= True)"
   ]
  },
  {
   "cell_type": "markdown",
   "id": "d7e7ab6f",
   "metadata": {},
   "source": [
    "Entre los 3 segmentos que mas convierten 0,3 y 5 tenemos un 38% de leads generados de buena calidad\n",
    "\n",
    "Entre los segmentos de peor calidad 1 y 4 tenemos un 34% de lead (insight), ya que no vamos a poder convertir a ninguno de ellos; podriamos prescindir de estos leads\n",
    "Revisar cómo estan llegando estos leads\n"
   ]
  },
  {
   "cell_type": "markdown",
   "id": "6a7d1eb5",
   "metadata": {},
   "source": [
    "**Aunque no coincide con los resultados de isaac, continuo**"
   ]
  }
 ],
 "metadata": {
  "kernelspec": {
   "display_name": "Python 3 (ipykernel)",
   "language": "python",
   "name": "python3"
  },
  "language_info": {
   "codemirror_mode": {
    "name": "ipython",
    "version": 3
   },
   "file_extension": ".py",
   "mimetype": "text/x-python",
   "name": "python",
   "nbconvert_exporter": "python",
   "pygments_lexer": "ipython3",
   "version": "3.11.7"
  },
  "toc": {
   "base_numbering": 1,
   "nav_menu": {},
   "number_sections": true,
   "sideBar": true,
   "skip_h1_title": false,
   "title_cell": "Table of Contents",
   "title_sidebar": "Contents",
   "toc_cell": false,
   "toc_position": {
    "height": "calc(100% - 180px)",
    "left": "10px",
    "top": "150px",
    "width": "253.95px"
   },
   "toc_section_display": true,
   "toc_window_display": true
  },
  "varInspector": {
   "cols": {
    "lenName": 16,
    "lenType": 16,
    "lenVar": 40
   },
   "kernels_config": {
    "python": {
     "delete_cmd_postfix": "",
     "delete_cmd_prefix": "del ",
     "library": "var_list.py",
     "varRefreshCmd": "print(var_dic_list())"
    },
    "r": {
     "delete_cmd_postfix": ") ",
     "delete_cmd_prefix": "rm(",
     "library": "var_list.r",
     "varRefreshCmd": "cat(var_dic_list()) "
    }
   },
   "position": {
    "height": "546.85px",
    "left": "1531.75px",
    "right": "20px",
    "top": "115px",
    "width": "350px"
   },
   "types_to_exclude": [
    "module",
    "function",
    "builtin_function_or_method",
    "instance",
    "_Feature"
   ],
   "window_display": false
  }
 },
 "nbformat": 4,
 "nbformat_minor": 5
}
